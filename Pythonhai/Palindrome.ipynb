{
 "cells": [
  {
   "cell_type": "code",
   "execution_count": 3,
   "id": "6bd60206",
   "metadata": {},
   "outputs": [],
   "source": [
    "def palindrome(n):\n",
    "    temp=n\n",
    "    rotate=0\n",
    "    while(temp!=0):\n",
    "        \n",
    "        rotate=rotate*10+temp%10\n",
    "        temp=temp//10\n",
    "        \n",
    "    if(rotate==n):\n",
    "        \n",
    "        print(f\"{n} is palindrome\")\n",
    "        \n",
    "    else:\n",
    "        \n",
    "        print(f\"{n} is not palindrome\")\n",
    "        "
   ]
  },
  {
   "cell_type": "code",
   "execution_count": 4,
   "id": "3dffa894",
   "metadata": {},
   "outputs": [
    {
     "name": "stdout",
     "output_type": "stream",
     "text": [
      "Enter a number :112211\n",
      "112211 is palindrome\n"
     ]
    }
   ],
   "source": [
    "a=int(input(\"Enter a number :\"))\n",
    "\n",
    "palindrome(a)"
   ]
  },
  {
   "cell_type": "code",
   "execution_count": null,
   "id": "91c2068c",
   "metadata": {},
   "outputs": [],
   "source": []
  }
 ],
 "metadata": {
  "kernelspec": {
   "display_name": "Python 3 (ipykernel)",
   "language": "python",
   "name": "python3"
  },
  "language_info": {
   "codemirror_mode": {
    "name": "ipython",
    "version": 3
   },
   "file_extension": ".py",
   "mimetype": "text/x-python",
   "name": "python",
   "nbconvert_exporter": "python",
   "pygments_lexer": "ipython3",
   "version": "3.11.5"
  }
 },
 "nbformat": 4,
 "nbformat_minor": 5
}
