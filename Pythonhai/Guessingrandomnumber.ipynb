{
 "cells": [
  {
   "cell_type": "code",
   "execution_count": 1,
   "id": "6b39ad26",
   "metadata": {},
   "outputs": [],
   "source": [
    "import random"
   ]
  },
  {
   "cell_type": "code",
   "execution_count": 2,
   "id": "115d7877",
   "metadata": {},
   "outputs": [
    {
     "name": "stdout",
     "output_type": "stream",
     "text": [
      "Enter your guess45\n",
      "Your guess is far and guess is lower.\n",
      "Enter your guess90\n",
      "Your guess is close and guess is upper.\n",
      "Enter your guess85\n",
      "Your guess is close and guess is upper.\n",
      "Enter your guess80\n",
      "Your guess is close and guess is lower.\n",
      "Enter your guess81\n",
      "Your guess is close and guess is lower.\n",
      "Enter your guess84\n",
      "Your guess is close and guess is upper.\n",
      "Enter your guess83\n",
      "Your guess is close and guess is upper.\n",
      "Enter your guess82\n",
      "Congratulation!!You guessed the number in 8 tries.\n"
     ]
    }
   ],
   "source": [
    "def check(a,count):\n",
    "       \n",
    "    \n",
    "    b=int(input(\"Enter your guess\"))\n",
    "    count+=1\n",
    "    if a==b:\n",
    "        print(\"Congratulation!!You guessed the number in \"+ str(count)+\" tries.\")\n",
    "        return 0\n",
    "    else:\n",
    "        if(abs(a-b)>50):\n",
    "            if(a>b):\n",
    "                print(\"Your guess is too far and guess is lower.\")\n",
    "            else:\n",
    "                print(\"Your guess is too far and guess is upper.\")\n",
    "        elif(abs(a-b)>30):\n",
    "            if(a>b):\n",
    "                print(\"Your guess is far and guess is lower.\")\n",
    "            else:\n",
    "                print(\"Your guess is far and guess is upper.\")\n",
    "        elif(abs(a-b)>10):\n",
    "            if(a>b):\n",
    "                print(\"Your guess is near and guess is lower.\")\n",
    "            else:\n",
    "                print(\"Your guess is near and guess is upper.\")\n",
    "            \n",
    "        elif(abs(a-b)<10):\n",
    "            if(a>b):\n",
    "                print(\"Your guess is close and guess is lower.\")\n",
    "            else:\n",
    "                print(\"Your guess is close and guess is upper.\")\n",
    "    check(a,count)\n",
    "a= random.randint(1,100)\n",
    "count=0\n",
    "check(a,count)"
   ]
  },
  {
   "cell_type": "code",
   "execution_count": null,
   "id": "34b2772e",
   "metadata": {},
   "outputs": [],
   "source": []
  }
 ],
 "metadata": {
  "kernelspec": {
   "display_name": "Python 3 (ipykernel)",
   "language": "python",
   "name": "python3"
  },
  "language_info": {
   "codemirror_mode": {
    "name": "ipython",
    "version": 3
   },
   "file_extension": ".py",
   "mimetype": "text/x-python",
   "name": "python",
   "nbconvert_exporter": "python",
   "pygments_lexer": "ipython3",
   "version": "3.11.5"
  }
 },
 "nbformat": 4,
 "nbformat_minor": 5
}
